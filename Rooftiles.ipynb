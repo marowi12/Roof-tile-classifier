{
 "cells": [
  {
   "cell_type": "markdown",
   "id": "c95e90f2-a6bf-4381-b49c-892cb4541676",
   "metadata": {},
   "source": [
    "# A roof tile classifier as first project\n",
    "\n",
    "This is first project as described in the [fast.ai](https://www.fast.ai/) practical deep learning [course](https://course.fast.ai/).\n",
    "\n",
    "I will attempt to write a program that can tell what roof tile the picture is off, from the four most used in the Netherlands, with better than 90% precision."
   ]
  },
  {
   "cell_type": "markdown",
   "id": "9dc51d1d-ebfa-4876-80cd-b8ed9de95b1b",
   "metadata": {},
   "source": [
    "\n",
    "<img src=\"https://projectwonen.nl/wp-content/uploads/2022/10/dakpannen.jpg\" alt=\"Roof tiles\" title=\"dakpannen\" width=\"600\"/>\n"
   ]
  },
  {
   "cell_type": "markdown",
   "id": "c2b16126-8e50-4ab7-8b7c-03a86395e947",
   "metadata": {},
   "source": [
    "First to import the libraries i need:"
   ]
  },
  {
   "cell_type": "code",
   "execution_count": 25,
   "id": "930aec7b-1dda-4b00-966a-c3f37980d0e0",
   "metadata": {},
   "outputs": [],
   "source": [
    "from duckduckgo_search import DDGS\n",
    "from fastcore.all import *"
   ]
  },
  {
   "cell_type": "markdown",
   "id": "e3ca1407-1b03-4d8f-8c9d-58f6d6203c86",
   "metadata": {},
   "source": [
    "Lets see if the search function works as expected:"
   ]
  },
  {
   "cell_type": "code",
   "execution_count": 26,
   "id": "0aed49be-297f-4d43-9bba-0d41cd8f1cce",
   "metadata": {},
   "outputs": [
    {
     "name": "stdout",
     "output_type": "stream",
     "text": [
      "https://www.bravarooftile.com/blog/roof-tile-types/\n",
      "https://www.newenglandmetalroof.com/roof-tiles-types/\n",
      "https://www.roof-crafters.com/learn/roof-tile-types\n",
      "https://designingidea.com/types-roof-tiles/\n",
      "https://www.thisoldhouse.com/roofing/reviews/clay-tile-roof\n"
     ]
    }
   ],
   "source": [
    "results = DDGS().text(\"roof tiles\", max_results=5)\n",
    "\n",
    "for r in results:\n",
    "    print(r.get('href'))"
   ]
  },
  {
   "cell_type": "markdown",
   "id": "ca4637fd-cb8e-4153-bcab-ac846c9571dc",
   "metadata": {},
   "source": [
    "And define a search function for images.\n",
    "I am looking for dutch roof tiles so i use a region code:"
   ]
  },
  {
   "cell_type": "code",
   "execution_count": 69,
   "id": "ab9df545-19f7-47bb-a625-3672a13995ab",
   "metadata": {},
   "outputs": [],
   "source": [
    "def search_images(keywords, country='wt-wt', max_images=200): return DDGS().images(keywords, max_results=max_images, region=country)\n",
    "import time, json"
   ]
  },
  {
   "cell_type": "markdown",
   "id": "df2470d0-b92a-4b4c-a412-ebd4aad6e0b7",
   "metadata": {},
   "source": [
    "\n",
    "## That looks fine onto the meat:"
   ]
  },
  {
   "cell_type": "markdown",
   "id": "1b552135-c025-4a25-8259-54ce35e83251",
   "metadata": {},
   "source": [
    "I have chosen roof tiles as subject because they all look similar but there are a lot of subtle differences between them so its a challenge for fast.ai.\n",
    "\n",
    "First i need to make a selection of the roof tiles i want to identify, i have chosen 4 that are commonly used in the Netherlands.\n",
    "\n",
    "* Betonnen sneldekker (monier)\n",
    "* VH (Verbeterde Holle) \n",
    "* OVH (opnieuw verbeterde holle)\n",
    "* Tuile du Nord\n"
   ]
  },
  {
   "cell_type": "markdown",
   "id": "653f6ca5-5a15-4476-8866-0050c6b0aae0",
   "metadata": {},
   "source": [
    "I find that the trick to get good training data when you use a search engine like i am doing here is to first use the image search in the browser and try out different keywords.\n",
    "\n",
    "I will use \"Dakpannen Beton Sneldek\" for Betonnen sneldekker\" and i will only look for jpeg and search dutch pages only:"
   ]
  },
  {
   "cell_type": "code",
   "execution_count": 74,
   "id": "5c6f0ed0-148b-4111-810d-bf337cfb2e17",
   "metadata": {},
   "outputs": [
    {
     "name": "stdout",
     "output_type": "stream",
     "text": [
      "https://www.betondakpannen.be/wp-content/uploads/2022/11/Benders-Palema-S-Sneldek-betondakpan-steenrood-2-768x768.jpg\n",
      "http://www.joop-goedkoop.nl/welkom/bouwmaterialen/P6210554.JPG\n",
      "https://venowa.nl/wp-content/uploads/2019/03/sneldekzwartb-1024x768.jpg\n"
     ]
    }
   ],
   "source": [
    "sneldek = 'Dakpannen Beton Sneldek .jpg'\n",
    "test = search_images(sneldek , country='nl', max_images=3)\n",
    "for t in test:\n",
    "    print(t.get('image'))"
   ]
  },
  {
   "cell_type": "markdown",
   "id": "1e0aed9e-b79d-4986-9ebe-c9e1667bb211",
   "metadata": {},
   "source": [
    "For the verbeterde holle i will use \"verbeterde holle dakpan\",\n",
    "the opnieuw verbeterde holle will be \"\"opnieuw verbeterde\" holle dakpan\"\n",
    "and finally the tuile du nord is \"tuile du nord dakpan\".\n"
   ]
  },
  {
   "cell_type": "code",
   "execution_count": 78,
   "id": "46f1a1d4-d1f0-4235-816d-b006fed20d49",
   "metadata": {},
   "outputs": [
    {
     "name": "stdout",
     "output_type": "stream",
     "text": [
      "verbeterde holle dakpan\n",
      " \"opnieuw verbeterde\" holle dakpan\n",
      "tuile du nord dakpan\n"
     ]
    }
   ],
   "source": [
    "vh = 'verbeterde holle dakpan'\n",
    "ovh = '\\\"opnieuw verbeterde\\\" holle dakpan'\n",
    "tuile = 'tuile du nord dakpan'\n",
    "\n",
    "print(vh + \"\\n\", ovh + \"\\n\" + tuile)"
   ]
  },
  {
   "cell_type": "markdown",
   "id": "d479d6df-3f6f-432b-b33f-f04db570789e",
   "metadata": {},
   "source": [
    "## Downloading training images"
   ]
  },
  {
   "cell_type": "code",
   "execution_count": null,
   "id": "e0cd5608-f8f3-4be4-a0ca-5f80c0589cff",
   "metadata": {},
   "outputs": [],
   "source": []
  }
 ],
 "metadata": {
  "kernelspec": {
   "display_name": "Python 3 (ipykernel)",
   "language": "python",
   "name": "python3"
  },
  "language_info": {
   "codemirror_mode": {
    "name": "ipython",
    "version": 3
   },
   "file_extension": ".py",
   "mimetype": "text/x-python",
   "name": "python",
   "nbconvert_exporter": "python",
   "pygments_lexer": "ipython3",
   "version": "3.12.7"
  }
 },
 "nbformat": 4,
 "nbformat_minor": 5
}
